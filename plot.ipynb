{
 "cells": [
  {
   "cell_type": "code",
   "execution_count": 2,
   "metadata": {},
   "outputs": [],
   "source": [
    "import matplotlib.cbook as cbook\n",
    "import matplotlib.pyplot as plt\n",
    "import numpy as np\n",
    "import pandas as pd\n",
    "import glob\n",
    "import os"
   ]
  },
  {
   "cell_type": "code",
   "execution_count": 8,
   "metadata": {},
   "outputs": [],
   "source": [
    "def plot_history(algs,colname,resultsdir='results',traintest='train'):\n",
    "    experiment='pooling'\n",
    "    fig_dpi=96\n",
    "    fig_ext='png'\n",
    "    fig = plt.figure(figsize=(10.0, 3.0))\n",
    "    axes1 = fig.add_subplot(1, 1, 1)\n",
    "    for alg in algs:\n",
    "        msft = pd.concat(map(pd.read_csv, glob.glob(os.path.join(resultsdir+'/'+ \n",
    "            experiment+'_'+alg+'_Syntheticseed_*_'+traintest+'.csv'))))\n",
    "        axes1.plot(msft[colname].values)\n",
    "    axes1.set_ylabel(colname)\n",
    "    axes1.legend(algs)\n",
    "    fig.tight_layout();\n",
    "    fig.show();\n",
    "    plt.savefig(experiment+'_'+colname+'.'+fig_ext,dpi=fig_dpi,bbox_inches='tight')\n"
   ]
  },
  {
   "cell_type": "code",
   "execution_count": 9,
   "metadata": {},
   "outputs": [
    {
     "ename": "ValueError",
     "evalue": "No objects to concatenate",
     "output_type": "error",
     "traceback": [
      "\u001b[0;31m---------------------------------------------------------------------------\u001b[0m",
      "\u001b[0;31mValueError\u001b[0m                                Traceback (most recent call last)",
      "\u001b[1;32m/home/jungp/python/glodismo/plot.ipynb Cell 3'\u001b[0m in \u001b[0;36m<cell line: 1>\u001b[0;34m()\u001b[0m\n\u001b[0;32m----> <a href='vscode-notebook-cell://ssh-remote%2Bcommit-ws4.commit.tu-berlin.de/home/jungp/python/glodismo/plot.ipynb#ch0000002vscode-remote?line=0'>1</a>\u001b[0m plot_history([\u001b[39m'\u001b[39;49m\u001b[39mbaseline\u001b[39;49m\u001b[39m'\u001b[39;49m,\u001b[39m'\u001b[39;49m\u001b[39mbaseline_greedy\u001b[39;49m\u001b[39m'\u001b[39;49m,\u001b[39m'\u001b[39;49m\u001b[39mlearned\u001b[39;49m\u001b[39m'\u001b[39;49m],\u001b[39m'\u001b[39;49m\u001b[39mtrain_loss_l2\u001b[39;49m\u001b[39m'\u001b[39;49m,\u001b[39m'\u001b[39;49m\u001b[39mresults2\u001b[39;49m\u001b[39m'\u001b[39;49m,\u001b[39m'\u001b[39;49m\u001b[39mtrain\u001b[39;49m\u001b[39m'\u001b[39;49m)\n\u001b[1;32m      <a href='vscode-notebook-cell://ssh-remote%2Bcommit-ws4.commit.tu-berlin.de/home/jungp/python/glodismo/plot.ipynb#ch0000002vscode-remote?line=1'>2</a>\u001b[0m plot_history([\u001b[39m'\u001b[39m\u001b[39mbaseline\u001b[39m\u001b[39m'\u001b[39m,\u001b[39m'\u001b[39m\u001b[39mbaseline_greedy\u001b[39m\u001b[39m'\u001b[39m,\u001b[39m'\u001b[39m\u001b[39mlearned\u001b[39m\u001b[39m'\u001b[39m,\u001b[39m'\u001b[39m\u001b[39mrandom\u001b[39m\u001b[39m'\u001b[39m],\u001b[39m'\u001b[39m\u001b[39mtest_loss_l2\u001b[39m\u001b[39m'\u001b[39m,\u001b[39m'\u001b[39m\u001b[39mresults2\u001b[39m\u001b[39m'\u001b[39m,\u001b[39m'\u001b[39m\u001b[39mtest\u001b[39m\u001b[39m'\u001b[39m)\n",
      "\u001b[1;32m/home/jungp/python/glodismo/plot.ipynb Cell 2'\u001b[0m in \u001b[0;36mplot_history\u001b[0;34m(algs, colname, resultsdir, traintest)\u001b[0m\n\u001b[1;32m      <a href='vscode-notebook-cell://ssh-remote%2Bcommit-ws4.commit.tu-berlin.de/home/jungp/python/glodismo/plot.ipynb#ch0000001vscode-remote?line=5'>6</a>\u001b[0m axes1 \u001b[39m=\u001b[39m fig\u001b[39m.\u001b[39madd_subplot(\u001b[39m1\u001b[39m, \u001b[39m1\u001b[39m, \u001b[39m1\u001b[39m)\n\u001b[1;32m      <a href='vscode-notebook-cell://ssh-remote%2Bcommit-ws4.commit.tu-berlin.de/home/jungp/python/glodismo/plot.ipynb#ch0000001vscode-remote?line=6'>7</a>\u001b[0m \u001b[39mfor\u001b[39;00m alg \u001b[39min\u001b[39;00m algs:\n\u001b[0;32m----> <a href='vscode-notebook-cell://ssh-remote%2Bcommit-ws4.commit.tu-berlin.de/home/jungp/python/glodismo/plot.ipynb#ch0000001vscode-remote?line=7'>8</a>\u001b[0m     msft \u001b[39m=\u001b[39m pd\u001b[39m.\u001b[39;49mconcat(\u001b[39mmap\u001b[39;49m(pd\u001b[39m.\u001b[39;49mread_csv, glob\u001b[39m.\u001b[39;49mglob(os\u001b[39m.\u001b[39;49mpath\u001b[39m.\u001b[39;49mjoin(resultsdir,\u001b[39m'\u001b[39;49m\u001b[39m/\u001b[39;49m\u001b[39m'\u001b[39;49m, \n\u001b[1;32m      <a href='vscode-notebook-cell://ssh-remote%2Bcommit-ws4.commit.tu-berlin.de/home/jungp/python/glodismo/plot.ipynb#ch0000001vscode-remote?line=8'>9</a>\u001b[0m         experiment\u001b[39m+\u001b[39;49m\u001b[39m'\u001b[39;49m\u001b[39m_\u001b[39;49m\u001b[39m'\u001b[39;49m\u001b[39m+\u001b[39;49malg\u001b[39m+\u001b[39;49m\u001b[39m'\u001b[39;49m\u001b[39m_Syntheticseed_*_\u001b[39;49m\u001b[39m'\u001b[39;49m\u001b[39m+\u001b[39;49mtraintest\u001b[39m+\u001b[39;49m\u001b[39m'\u001b[39;49m\u001b[39m.csv\u001b[39;49m\u001b[39m'\u001b[39;49m))))\n\u001b[1;32m     <a href='vscode-notebook-cell://ssh-remote%2Bcommit-ws4.commit.tu-berlin.de/home/jungp/python/glodismo/plot.ipynb#ch0000001vscode-remote?line=9'>10</a>\u001b[0m     axes1\u001b[39m.\u001b[39mplot(msft[colname]\u001b[39m.\u001b[39mvalues)\n\u001b[1;32m     <a href='vscode-notebook-cell://ssh-remote%2Bcommit-ws4.commit.tu-berlin.de/home/jungp/python/glodismo/plot.ipynb#ch0000001vscode-remote?line=10'>11</a>\u001b[0m axes1\u001b[39m.\u001b[39mset_ylabel(colname)\n",
      "File \u001b[0;32m~/.conda/envs/glodismo/lib/python3.9/site-packages/pandas/util/_decorators.py:311\u001b[0m, in \u001b[0;36mdeprecate_nonkeyword_arguments.<locals>.decorate.<locals>.wrapper\u001b[0;34m(*args, **kwargs)\u001b[0m\n\u001b[1;32m    <a href='file:///home/jungp/.conda/envs/glodismo/lib/python3.9/site-packages/pandas/util/_decorators.py?line=304'>305</a>\u001b[0m \u001b[39mif\u001b[39;00m \u001b[39mlen\u001b[39m(args) \u001b[39m>\u001b[39m num_allow_args:\n\u001b[1;32m    <a href='file:///home/jungp/.conda/envs/glodismo/lib/python3.9/site-packages/pandas/util/_decorators.py?line=305'>306</a>\u001b[0m     warnings\u001b[39m.\u001b[39mwarn(\n\u001b[1;32m    <a href='file:///home/jungp/.conda/envs/glodismo/lib/python3.9/site-packages/pandas/util/_decorators.py?line=306'>307</a>\u001b[0m         msg\u001b[39m.\u001b[39mformat(arguments\u001b[39m=\u001b[39marguments),\n\u001b[1;32m    <a href='file:///home/jungp/.conda/envs/glodismo/lib/python3.9/site-packages/pandas/util/_decorators.py?line=307'>308</a>\u001b[0m         \u001b[39mFutureWarning\u001b[39;00m,\n\u001b[1;32m    <a href='file:///home/jungp/.conda/envs/glodismo/lib/python3.9/site-packages/pandas/util/_decorators.py?line=308'>309</a>\u001b[0m         stacklevel\u001b[39m=\u001b[39mstacklevel,\n\u001b[1;32m    <a href='file:///home/jungp/.conda/envs/glodismo/lib/python3.9/site-packages/pandas/util/_decorators.py?line=309'>310</a>\u001b[0m     )\n\u001b[0;32m--> <a href='file:///home/jungp/.conda/envs/glodismo/lib/python3.9/site-packages/pandas/util/_decorators.py?line=310'>311</a>\u001b[0m \u001b[39mreturn\u001b[39;00m func(\u001b[39m*\u001b[39;49margs, \u001b[39m*\u001b[39;49m\u001b[39m*\u001b[39;49mkwargs)\n",
      "File \u001b[0;32m~/.conda/envs/glodismo/lib/python3.9/site-packages/pandas/core/reshape/concat.py:346\u001b[0m, in \u001b[0;36mconcat\u001b[0;34m(objs, axis, join, ignore_index, keys, levels, names, verify_integrity, sort, copy)\u001b[0m\n\u001b[1;32m    <a href='file:///home/jungp/.conda/envs/glodismo/lib/python3.9/site-packages/pandas/core/reshape/concat.py?line=141'>142</a>\u001b[0m \u001b[39m@deprecate_nonkeyword_arguments\u001b[39m(version\u001b[39m=\u001b[39m\u001b[39mNone\u001b[39;00m, allowed_args\u001b[39m=\u001b[39m[\u001b[39m\"\u001b[39m\u001b[39mobjs\u001b[39m\u001b[39m\"\u001b[39m])\n\u001b[1;32m    <a href='file:///home/jungp/.conda/envs/glodismo/lib/python3.9/site-packages/pandas/core/reshape/concat.py?line=142'>143</a>\u001b[0m \u001b[39mdef\u001b[39;00m \u001b[39mconcat\u001b[39m(\n\u001b[1;32m    <a href='file:///home/jungp/.conda/envs/glodismo/lib/python3.9/site-packages/pandas/core/reshape/concat.py?line=143'>144</a>\u001b[0m     objs: Iterable[NDFrame] \u001b[39m|\u001b[39m Mapping[Hashable, NDFrame],\n\u001b[0;32m   (...)\u001b[0m\n\u001b[1;32m    <a href='file:///home/jungp/.conda/envs/glodismo/lib/python3.9/site-packages/pandas/core/reshape/concat.py?line=152'>153</a>\u001b[0m     copy: \u001b[39mbool\u001b[39m \u001b[39m=\u001b[39m \u001b[39mTrue\u001b[39;00m,\n\u001b[1;32m    <a href='file:///home/jungp/.conda/envs/glodismo/lib/python3.9/site-packages/pandas/core/reshape/concat.py?line=153'>154</a>\u001b[0m ) \u001b[39m-\u001b[39m\u001b[39m>\u001b[39m DataFrame \u001b[39m|\u001b[39m Series:\n\u001b[1;32m    <a href='file:///home/jungp/.conda/envs/glodismo/lib/python3.9/site-packages/pandas/core/reshape/concat.py?line=154'>155</a>\u001b[0m     \u001b[39m\"\"\"\u001b[39;00m\n\u001b[1;32m    <a href='file:///home/jungp/.conda/envs/glodismo/lib/python3.9/site-packages/pandas/core/reshape/concat.py?line=155'>156</a>\u001b[0m \u001b[39m    Concatenate pandas objects along a particular axis with optional set logic\u001b[39;00m\n\u001b[1;32m    <a href='file:///home/jungp/.conda/envs/glodismo/lib/python3.9/site-packages/pandas/core/reshape/concat.py?line=156'>157</a>\u001b[0m \u001b[39m    along the other axes.\u001b[39;00m\n\u001b[0;32m   (...)\u001b[0m\n\u001b[1;32m    <a href='file:///home/jungp/.conda/envs/glodismo/lib/python3.9/site-packages/pandas/core/reshape/concat.py?line=343'>344</a>\u001b[0m \u001b[39m    ValueError: Indexes have overlapping values: ['a']\u001b[39;00m\n\u001b[1;32m    <a href='file:///home/jungp/.conda/envs/glodismo/lib/python3.9/site-packages/pandas/core/reshape/concat.py?line=344'>345</a>\u001b[0m \u001b[39m    \"\"\"\u001b[39;00m\n\u001b[0;32m--> <a href='file:///home/jungp/.conda/envs/glodismo/lib/python3.9/site-packages/pandas/core/reshape/concat.py?line=345'>346</a>\u001b[0m     op \u001b[39m=\u001b[39m _Concatenator(\n\u001b[1;32m    <a href='file:///home/jungp/.conda/envs/glodismo/lib/python3.9/site-packages/pandas/core/reshape/concat.py?line=346'>347</a>\u001b[0m         objs,\n\u001b[1;32m    <a href='file:///home/jungp/.conda/envs/glodismo/lib/python3.9/site-packages/pandas/core/reshape/concat.py?line=347'>348</a>\u001b[0m         axis\u001b[39m=\u001b[39;49maxis,\n\u001b[1;32m    <a href='file:///home/jungp/.conda/envs/glodismo/lib/python3.9/site-packages/pandas/core/reshape/concat.py?line=348'>349</a>\u001b[0m         ignore_index\u001b[39m=\u001b[39;49mignore_index,\n\u001b[1;32m    <a href='file:///home/jungp/.conda/envs/glodismo/lib/python3.9/site-packages/pandas/core/reshape/concat.py?line=349'>350</a>\u001b[0m         join\u001b[39m=\u001b[39;49mjoin,\n\u001b[1;32m    <a href='file:///home/jungp/.conda/envs/glodismo/lib/python3.9/site-packages/pandas/core/reshape/concat.py?line=350'>351</a>\u001b[0m         keys\u001b[39m=\u001b[39;49mkeys,\n\u001b[1;32m    <a href='file:///home/jungp/.conda/envs/glodismo/lib/python3.9/site-packages/pandas/core/reshape/concat.py?line=351'>352</a>\u001b[0m         levels\u001b[39m=\u001b[39;49mlevels,\n\u001b[1;32m    <a href='file:///home/jungp/.conda/envs/glodismo/lib/python3.9/site-packages/pandas/core/reshape/concat.py?line=352'>353</a>\u001b[0m         names\u001b[39m=\u001b[39;49mnames,\n\u001b[1;32m    <a href='file:///home/jungp/.conda/envs/glodismo/lib/python3.9/site-packages/pandas/core/reshape/concat.py?line=353'>354</a>\u001b[0m         verify_integrity\u001b[39m=\u001b[39;49mverify_integrity,\n\u001b[1;32m    <a href='file:///home/jungp/.conda/envs/glodismo/lib/python3.9/site-packages/pandas/core/reshape/concat.py?line=354'>355</a>\u001b[0m         copy\u001b[39m=\u001b[39;49mcopy,\n\u001b[1;32m    <a href='file:///home/jungp/.conda/envs/glodismo/lib/python3.9/site-packages/pandas/core/reshape/concat.py?line=355'>356</a>\u001b[0m         sort\u001b[39m=\u001b[39;49msort,\n\u001b[1;32m    <a href='file:///home/jungp/.conda/envs/glodismo/lib/python3.9/site-packages/pandas/core/reshape/concat.py?line=356'>357</a>\u001b[0m     )\n\u001b[1;32m    <a href='file:///home/jungp/.conda/envs/glodismo/lib/python3.9/site-packages/pandas/core/reshape/concat.py?line=358'>359</a>\u001b[0m     \u001b[39mreturn\u001b[39;00m op\u001b[39m.\u001b[39mget_result()\n",
      "File \u001b[0;32m~/.conda/envs/glodismo/lib/python3.9/site-packages/pandas/core/reshape/concat.py:403\u001b[0m, in \u001b[0;36m_Concatenator.__init__\u001b[0;34m(self, objs, axis, join, keys, levels, names, ignore_index, verify_integrity, copy, sort)\u001b[0m\n\u001b[1;32m    <a href='file:///home/jungp/.conda/envs/glodismo/lib/python3.9/site-packages/pandas/core/reshape/concat.py?line=399'>400</a>\u001b[0m     objs \u001b[39m=\u001b[39m \u001b[39mlist\u001b[39m(objs)\n\u001b[1;32m    <a href='file:///home/jungp/.conda/envs/glodismo/lib/python3.9/site-packages/pandas/core/reshape/concat.py?line=401'>402</a>\u001b[0m \u001b[39mif\u001b[39;00m \u001b[39mlen\u001b[39m(objs) \u001b[39m==\u001b[39m \u001b[39m0\u001b[39m:\n\u001b[0;32m--> <a href='file:///home/jungp/.conda/envs/glodismo/lib/python3.9/site-packages/pandas/core/reshape/concat.py?line=402'>403</a>\u001b[0m     \u001b[39mraise\u001b[39;00m \u001b[39mValueError\u001b[39;00m(\u001b[39m\"\u001b[39m\u001b[39mNo objects to concatenate\u001b[39m\u001b[39m\"\u001b[39m)\n\u001b[1;32m    <a href='file:///home/jungp/.conda/envs/glodismo/lib/python3.9/site-packages/pandas/core/reshape/concat.py?line=404'>405</a>\u001b[0m \u001b[39mif\u001b[39;00m keys \u001b[39mis\u001b[39;00m \u001b[39mNone\u001b[39;00m:\n\u001b[1;32m    <a href='file:///home/jungp/.conda/envs/glodismo/lib/python3.9/site-packages/pandas/core/reshape/concat.py?line=405'>406</a>\u001b[0m     objs \u001b[39m=\u001b[39m \u001b[39mlist\u001b[39m(com\u001b[39m.\u001b[39mnot_none(\u001b[39m*\u001b[39mobjs))\n",
      "\u001b[0;31mValueError\u001b[0m: No objects to concatenate"
     ]
    },
    {
     "data": {
      "image/png": "[encoded data removed]",
      "text/plain": [
       "<Figure size 720x216 with 1 Axes>"
      ]
     },
     "metadata": {
      "needs_background": "light"
     },
     "output_type": "display_data"
    }
   ],
   "source": [
    "plot_history(['baseline','baseline_greedy','learned'],'train_loss_l2','results2','train')\n",
    "plot_history(['baseline','baseline_greedy','learned','random'],'test_loss_l2','results2','test')"
   ]
  },
  {
   "cell_type": "code",
   "execution_count": null,
   "metadata": {},
   "outputs": [],
   "source": []
  },
  {
   "cell_type": "code",
   "execution_count": null,
   "metadata": {},
   "outputs": [],
   "source": []
  },
  {
   "cell_type": "code",
   "execution_count": null,
   "metadata": {},
   "outputs": [],
   "source": []
  }
 ],
 "metadata": {
  "interpreter": {
   "hash": "3610fd789f0ae6eef3dbd1350fd93969a012937e22f9a703b241acaff20683e1"
  },
  "kernelspec": {
   "display_name": "Python 3 (ipykernel)",
   "language": "python",
   "name": "python3"
  },
  "language_info": {
   "codemirror_mode": {
    "name": "ipython",
    "version": 3
   },
   "file_extension": ".py",
   "mimetype": "text/x-python",
   "name": "python",
   "nbconvert_exporter": "python",
   "pygments_lexer": "ipython3",
   "version": "3.9.12"
  }
 },
 "nbformat": 4,
 "nbformat_minor": 2
}
