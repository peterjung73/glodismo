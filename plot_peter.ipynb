{
 "cells": [
  {
   "cell_type": "code",
   "execution_count": null,
   "metadata": {},
   "outputs": [],
   "source": [
    "import plots"
   ]
  },
  {
   "cell_type": "code",
   "execution_count": null,
   "metadata": {},
   "outputs": [],
   "source": [
    "plots.plot_average(['baseline','baseline_greedy','learned'],'train_loss_l2','pooling','results','train')\n",
    "plots.plot_average(['baseline','baseline_greedy','learned','random'],'test_loss_l2','pooling','results','test')\n",
    "          "
   ]
  },
  {
   "cell_type": "code",
   "execution_count": null,
   "metadata": {},
   "outputs": [],
   "source": [
    "plots.plot_history(['learned'],'train_loss_l2','pooling','results','train')\n",
    "plots.plot_history(['learned'],'test_loss_l2','pooling','results','test')\n"
   ]
  },
  {
   "cell_type": "code",
   "execution_count": null,
   "metadata": {},
   "outputs": [],
   "source": [
    "plots.plot_history(['baseline','baseline_greedy','learned'],'train_loss_l2','pooling','results','train')\n",
    "plots.plot_history(['baseline','baseline_greedy','learned','random'],'test_loss_l2','pooling','results','test')"
   ]
  },
  {
   "cell_type": "code",
   "execution_count": null,
   "metadata": {},
   "outputs": [],
   "source": []
  },
  {
   "cell_type": "code",
   "execution_count": null,
   "metadata": {},
   "outputs": [],
   "source": []
  },
  {
   "cell_type": "code",
   "execution_count": null,
   "metadata": {},
   "outputs": [],
   "source": []
  }
 ],
 "metadata": {
  "kernelspec": {
   "display_name": "Python 3.9.12 ('glodismo')",
   "language": "python",
   "name": "python3"
  },
  "language_info": {
   "codemirror_mode": {
    "name": "ipython",
    "version": 3
   },
   "file_extension": ".py",
   "mimetype": "text/x-python",
   "name": "python",
   "nbconvert_exporter": "python",
   "pygments_lexer": "ipython3",
   "version": "3.9.12"
  },
  "vscode": {
   "interpreter": {
    "hash": "3610fd789f0ae6eef3dbd1350fd93969a012937e22f9a703b241acaff20683e1"
   }
  }
 },
 "nbformat": 4,
 "nbformat_minor": 2
}
