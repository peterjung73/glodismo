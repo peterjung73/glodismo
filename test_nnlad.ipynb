{
 "cells": [
  {
   "cell_type": "code",
   "execution_count": 1,
   "metadata": {},
   "outputs": [
    {
     "name": "stderr",
     "output_type": "stream",
     "text": [
      "/products/anaconda3/envs/glodismo_classifier/lib/python3.7/site-packages/tqdm/auto.py:22: TqdmWarning: IProgress not found. Please update jupyter and ipywidgets. See https://ipywidgets.readthedocs.io/en/stable/user_install.html\n",
      "  from .autonotebook import tqdm as notebook_tqdm\n"
     ]
    }
   ],
   "source": [
    "import torch\n",
    "import numpy as np\n",
    "from   recovery import NNLAD\n",
    "from   noise import GaussianNoise\n",
    "from   sensing_matrices import ConstructedPooling\n",
    "import matplotlib.pyplot as plt"
   ]
  },
  {
   "cell_type": "code",
   "execution_count": 31,
   "metadata": {},
   "outputs": [],
   "source": [
    "container   = np.load(\"data.npz\")\n",
    "Phi         = container[\"zero_mask\"]\n",
    "sigmas      = container[\"sigmas\"]\n",
    "taus        = container[\"taus\"]\n",
    "x           = container[\"x\"]\n",
    "niterations = len(sigmas)\n",
    "\n"
   ]
  },
  {
   "cell_type": "code",
   "execution_count": 32,
   "metadata": {},
   "outputs": [
    {
     "name": "stdout",
     "output_type": "stream",
     "text": [
      "torch.Size([1, 961])\n",
      "torch.Size([248, 961])\n",
      "[[0.    0.    0.    ... 0.    0.    0.   ]\n",
      " [0.    0.    0.    ... 0.    0.    0.   ]\n",
      " [0.125 0.    0.    ... 0.    0.    0.   ]\n",
      " ...\n",
      " [0.    0.    0.    ... 0.    0.    0.   ]\n",
      " [0.    0.    0.    ... 0.    0.    0.   ]\n",
      " [0.    0.    0.    ... 0.    0.    0.   ]]\n"
     ]
    }
   ],
   "source": [
    "device='cpu'\n",
    "X = torch.from_numpy(x)\n",
    "A = torch.from_numpy(Phi.T)\n",
    "# A = ConstructedPooling(1).A\n",
    "# X = X.to(device) \n",
    "print(X.shape)\n",
    "print(A.shape)\n",
    "print(A.numpy())\n"
   ]
  },
  {
   "cell_type": "code",
   "execution_count": 33,
   "metadata": {},
   "outputs": [
    {
     "name": "stdout",
     "output_type": "stream",
     "text": [
      "[[9.9999994e-02 1.0010001e-01 1.0019999e-01 ... 8.8254223e-05\n",
      "  8.8254223e-05 8.8254223e-05]]\n"
     ]
    }
   ],
   "source": [
    "nnlad_sigma= np.exp(sigmas).reshape(1,-1)\n",
    "nnlad_tau  = np.exp(taus).reshape(1,-1)\n",
    "\n",
    "model      = NNLAD(niterations,nnlad_sigma,nnlad_tau)\n",
    "# sparsity domain (not used at the moment in NNLAD)\n",
    "psi        = lambda x: x\n",
    "psistar    = lambda y: y\n",
    "\n",
    "forward_op  = lambda x: torch.matmul(x, A.T)\n",
    "backward_op = lambda x: torch.matmul(x, A)\n",
    "\n",
    "\n",
    "noise=GaussianNoise(100)"
   ]
  },
  {
   "cell_type": "code",
   "execution_count": 34,
   "metadata": {},
   "outputs": [
    {
     "data": {
      "text/plain": [
       "0.099999994"
      ]
     },
     "execution_count": 34,
     "metadata": {},
     "output_type": "execute_result"
    }
   ],
   "source": [
    "model.sigma[0][0]"
   ]
  },
  {
   "cell_type": "code",
   "execution_count": 35,
   "metadata": {},
   "outputs": [],
   "source": [
    "# y = noise(forward_op(X))\n",
    "# scale=1.e7\n",
    "y = noise(forward_op(X))\n",
    "scale = torch.max(y)\n",
    "y = y/scale\n",
    "Xhat = model(y, forward_op, backward_op, psi, psistar)*scale"
   ]
  },
  {
   "cell_type": "code",
   "execution_count": 36,
   "metadata": {},
   "outputs": [
    {
     "name": "stdout",
     "output_type": "stream",
     "text": [
      "0.36593467\n"
     ]
    },
    {
     "data": {
      "text/plain": [
       "<matplotlib.legend.Legend at 0x7fe19fa6fe10>"
      ]
     },
     "execution_count": 36,
     "metadata": {},
     "output_type": "execute_result"
    },
    {
     "data": {
      "image/png": "[encoded data removed]",
      "text/plain": [
       "<Figure size 432x288 with 1 Axes>"
      ]
     },
     "metadata": {
      "needs_background": "light"
     },
     "output_type": "display_data"
    },
    {
     "data": {
      "image/png": "[encoded data removed]",
      "text/plain": [
       "<Figure size 432x288 with 1 Axes>"
      ]
     },
     "metadata": {
      "needs_background": "light"
     },
     "output_type": "display_data"
    }
   ],
   "source": [
    "\n",
    "err=X.numpy()-Xhat.numpy()\n",
    "print(np.mean(err**2))\n",
    "plt.figure()\n",
    "plt.plot(X.numpy().T,label='orig')\n",
    "plt.plot(Xhat.numpy().T,label='recovered')\n",
    "plt.legend()\n",
    "\n",
    "plt.figure()\n",
    "plt.plot(X.numpy().T-Xhat.numpy().T,label='orig-recovered')\n",
    "plt.legend()"
   ]
  },
  {
   "cell_type": "code",
   "execution_count": null,
   "metadata": {},
   "outputs": [],
   "source": []
  },
  {
   "cell_type": "code",
   "execution_count": null,
   "metadata": {},
   "outputs": [],
   "source": []
  }
 ],
 "metadata": {
  "kernelspec": {
   "display_name": "Python 3.7.12 ('glodismo_classifier')",
   "language": "python",
   "name": "python3"
  },
  "language_info": {
   "codemirror_mode": {
    "name": "ipython",
    "version": 3
   },
   "file_extension": ".py",
   "mimetype": "text/x-python",
   "name": "python",
   "nbconvert_exporter": "python",
   "pygments_lexer": "ipython3",
   "version": "3.7.12"
  },
  "vscode": {
   "interpreter": {
    "hash": "f22dff3d9915f14ff8507428814b1092518ea2118eae20a949d47a1a995fbe08"
   }
  }
 },
 "nbformat": 4,
 "nbformat_minor": 2
}
