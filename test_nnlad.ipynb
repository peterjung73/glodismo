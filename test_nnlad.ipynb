{
 "cells": [
  {
   "cell_type": "code",
   "execution_count": null,
   "metadata": {},
   "outputs": [],
   "source": [
    "container   = np.load(‘data.npz’)\n",
    "    zero_mask = container[‘zero_mask’]\n",
    "    sigmas        = container[‘sigmas’]\n",
    "    taus            = container[‘taus’]\n",
    "    x                 = container[‘x’]\n",
    "\n",
    "load_fixed_matrx(data.)"
   ]
  },
  {
   "cell_type": "code",
   "execution_count": null,
   "metadata": {},
   "outputs": [],
   "source": []
  }
 ],
 "metadata": {
  "kernelspec": {
   "display_name": "Python 3.9.12 ('glodismo')",
   "language": "python",
   "name": "python3"
  },
  "language_info": {
   "codemirror_mode": {
    "name": "ipython",
    "version": 3
   },
   "file_extension": ".py",
   "mimetype": "text/x-python",
   "name": "python",
   "nbconvert_exporter": "python",
   "pygments_lexer": "ipython3",
   "version": "3.9.12"
  },
  "vscode": {
   "interpreter": {
    "hash": "3610fd789f0ae6eef3dbd1350fd93969a012937e22f9a703b241acaff20683e1"
   }
  }
 },
 "nbformat": 4,
 "nbformat_minor": 2
}
